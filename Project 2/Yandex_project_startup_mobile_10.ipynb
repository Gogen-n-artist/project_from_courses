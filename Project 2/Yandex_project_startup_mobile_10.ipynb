{
 "cells": [
  {
   "cell_type": "markdown",
   "metadata": {
    "id": "u0YCkdunOG-M"
   },
   "source": [
    "## Project Description:\n",
    "We work in a startup that sells food. We need to figure out how the users of our mobile application behave. \n",
    "1. Let's study the sales funnel. Let's find out how users reach the purchase. How many users reach the purchase, and how many are \"stuck\" in the previous steps? Which ones exactly?\n",
    "2. After that, we examine the results of the A/A/B experiment. Designers wanted to change fonts throughout the application, and managers were afraid that users would be unusual. We agreed to make a decision based on the results of the A/A/B test. Users were divided into 3 groups: 2 control ones with old fonts and one experimental one with new ones. Let's find out which font is better.\n",
    "3. Creating two A groups instead of one has certain advantages. If the two control groups are equal, we can be sure of the accuracy of the test. If there are significant differences between the values of A and A, it will help to detect the factors that led to the distortion of the results. Comparing the control groups will also help you understand how much time and data will be required for further tests.\n",
    "\n",
    "In the case of general analytics and A/A/B experiment, work with the same data. There are always experiments in real projects. Analysts investigate the quality of the application based on general data, without taking into account the affiliation of users to experiments."
   ]
  },
  {
   "cell_type": "markdown",
   "metadata": {
    "id": "jRiFdp8BOG-Q"
   },
   "source": [
    "#### Data Description:\n",
    "* Each log entry is a user action or event. \n",
    "* eventName — event name;\n",
    "* DeviceIDHash — unique user ID;\n",
    "* EventTimestamp — time of the event;\n",
    "* ExpId — experiment number: 246 and 247 are control groups, and 248 is experimental."
   ]
  },
  {
   "cell_type": "markdown",
   "metadata": {
    "id": "u7-xJpl1ytHN"
   },
   "source": [
    "## 1. Let's look at the data and import the necessary libraries"
   ]
  },
  {
   "cell_type": "code",
   "execution_count": null,
   "metadata": {
    "id": "WAEVVLYdOG-Q"
   },
   "outputs": [],
   "source": [
    "import re\n",
    "import pandas as pd\n",
    "import numpy as np\n",
    "import scipy.stats as stats\n",
    "import plotly.express as px \n",
    "import plotly.graph_objects as go\n",
    "import plotly.subplots as sp\n",
    "import math\n",
    "from datetime import datetime, timedelta\n",
    "from plotly.subplots import make_subplots\n",
    "from scipy import stats as st"
   ]
  },
  {
   "cell_type": "code",
   "execution_count": null,
   "metadata": {
    "id": "VYafeqocOG-R"
   },
   "outputs": [],
   "source": [
    "try:\n",
    "    logs = pd.read_csv('/datasets/logs_exp.csv', sep='\\t')\n",
    "except:\n",
    "    logs = pd.read_csv('https://code.s3.yandex.net//datasets/logs_exp.csv', sep='\\t')\n"
   ]
  },
  {
   "cell_type": "code",
   "execution_count": null,
   "metadata": {
    "colab": {
     "base_uri": "https://localhost:8080/",
     "height": 206
    },
    "id": "f0EDw3G8OtYG",
    "outputId": "1b5690d2-a16e-4c45-9c32-3c283355b05b"
   },
   "outputs": [],
   "source": [
    "logs.head()"
   ]
  },
  {
   "cell_type": "code",
   "execution_count": null,
   "metadata": {
    "colab": {
     "base_uri": "https://localhost:8080/"
    },
    "id": "7QY-hFndt_70",
    "outputId": "1bcfdc9b-eca6-4b33-eee4-ef599ae46fe8"
   },
   "outputs": [],
   "source": [
    "logs.info()"
   ]
  },
  {
   "cell_type": "markdown",
   "metadata": {
    "id": "I_dHRcIyytHS"
   },
   "source": [
    "There are no omissions, the column names are not in Python format, the Event Timestamp field is of type int64, and this is the time."
   ]
  },
  {
   "cell_type": "markdown",
   "metadata": {
    "id": "dOeMOcX1ytHT"
   },
   "source": [
    "## 2. Prepare the data"
   ]
  },
  {
   "cell_type": "code",
   "execution_count": null,
   "metadata": {
    "colab": {
     "base_uri": "https://localhost:8080/"
    },
    "id": "p1RUVxjCytHT",
    "outputId": "275b1b32-b608-46ee-8861-9848bbd84cf5"
   },
   "outputs": [],
   "source": [
    "logs.duplicated().sum() # check duplicates"
   ]
  },
  {
   "cell_type": "code",
   "execution_count": null,
   "metadata": {
    "id": "HQlFJv1xytHU"
   },
   "outputs": [],
   "source": [
    "logs = logs.drop_duplicates().reset_index(drop=True) # delet obvious duplicates"
   ]
  },
  {
   "cell_type": "code",
   "execution_count": null,
   "metadata": {
    "colab": {
     "base_uri": "https://localhost:8080/",
     "height": 206
    },
    "id": "3q5pvujruK0C",
    "outputId": "43bba5d3-c27e-45ae-a05c-921606a4b611"
   },
   "outputs": [],
   "source": [
    "logs.columns = (logs.columns.str.replace('(?<=[a-z])(?=[A-Z])', '_', regex=True).str.lower()) \n",
    "logs['date_time'] = pd.to_datetime(logs['event_timestamp'] , unit='s') # creaate columns with date\n",
    "logs['date'] = pd.to_datetime(logs['date_time']).dt.date\n",
    "logs['date'] = pd.to_datetime(logs['date']) \n",
    "logs.head()"
   ]
  },
  {
   "cell_type": "markdown",
   "metadata": {
    "id": "821OkYa9ytHV"
   },
   "source": [
    "Brought the column name to snake_case, checked the data for omissions, added columns and brought them to the datetime format and removed obvious duplicates."
   ]
  },
  {
   "cell_type": "markdown",
   "metadata": {
    "id": "Y8SiBIsQytHV"
   },
   "source": [
    "## 3. Check the data"
   ]
  },
  {
   "cell_type": "code",
   "execution_count": null,
   "metadata": {
    "colab": {
     "base_uri": "https://localhost:8080/"
    },
    "id": "sPyBaLOFytHV",
    "outputId": "8602d353-63a8-46f3-fbb7-9b2d48ab50c7"
   },
   "outputs": [],
   "source": [
    "logs.nunique() # unique data"
   ]
  },
  {
   "cell_type": "markdown",
   "metadata": {
    "id": "_AGJJlybytHW"
   },
   "source": [
    "* 5 event names.\n",
    "* * 7551 unique user ids\n",
    "* 3 experimental group numbers: 246 and 247 — control groups, and 248 — experimental.\n",
    "* 14 dates on which observations were carried out"
   ]
  },
  {
   "cell_type": "code",
   "execution_count": null,
   "metadata": {
    "colab": {
     "base_uri": "https://localhost:8080/"
    },
    "id": "8JLCGnl6ytHY",
    "outputId": "998940c8-739a-43e2-8381-7a93bed0101f"
   },
   "outputs": [],
   "source": [
    "print(f\"Total events in the log:{logs['event_name'].count()}\")"
   ]
  },
  {
   "cell_type": "code",
   "execution_count": null,
   "metadata": {
    "colab": {
     "base_uri": "https://localhost:8080/"
    },
    "id": "8Pl0yxNJytHa",
    "outputId": "84158f2d-0f19-49c2-9bba-c42cba00a69e"
   },
   "outputs": [],
   "source": [
    "print(f\"Average number of events per user: {round(logs['event_name'].count() / logs['device_idhash'].nunique())}\")"
   ]
  },
  {
   "cell_type": "markdown",
   "metadata": {
    "id": "1lH0iodeytHc"
   },
   "source": [
    "14 days in which the experiments were conducted.\n",
    "Find the start date and the end date"
   ]
  },
  {
   "cell_type": "code",
   "execution_count": null,
   "metadata": {
    "colab": {
     "base_uri": "https://localhost:8080/"
    },
    "id": "M8lZN7QBytHc",
    "outputId": "cce72444-9bd7-4ce3-d53f-3fefab6d7e3d"
   },
   "outputs": [],
   "source": [
    "print(f\"Minimum observation date: {logs['date_time'].min()}\")\n",
    "print(f\"Maximum observation date: {logs['date_time'].max()}\")"
   ]
  },
  {
   "cell_type": "code",
   "execution_count": null,
   "metadata": {
    "colab": {
     "base_uri": "https://localhost:8080/",
     "height": 517
    },
    "id": "OmkNR9PfytHd",
    "outputId": "64fb0f26-fe40-45d5-f5ca-363755ccf10d"
   },
   "outputs": [],
   "source": [
    "fig = go.Figure(data=[go.Histogram(x=logs['date_time'])])\n",
    "\n",
    "fig.update_layout(\n",
    "     title_text='Time distribution by dates',\n",
    "     xaxis_title_text='Date',\n",
    "     font=dict(size=12),\n",
    "     width=800,\n",
    "     height=500\n",
    ")\n",
    "fig.show()"
   ]
  },
  {
   "cell_type": "markdown",
   "metadata": {
    "id": "OCUuUXiRytHe"
   },
   "source": [
    "The graph shows that you have differently complete data for the entire period, from 25.07.2019 to 01.08.2019, the data is not complete."
   ]
  },
  {
   "cell_type": "code",
   "execution_count": null,
   "metadata": {
    "colab": {
     "base_uri": "https://localhost:8080/"
    },
    "id": "U9YT9yVqytHe",
    "outputId": "918520d8-70fe-45e3-f668-4619b29df340"
   },
   "outputs": [],
   "source": [
    "\n",
    "new_logs = logs.query(\"date > '2019-07-31'\") # Delete uncompleted data\n",
    "new_logs.nunique()\n"
   ]
  },
  {
   "cell_type": "code",
   "execution_count": null,
   "metadata": {},
   "outputs": [],
   "source": [
    "#number of events\n",
    "print(\n",
    "     '\\nNumber of events after data cleaning:', new_logs.shape[0],\n",
    "     '\\nNumber of lost events:', logs.shape[0] - new_logs.shape[0],\n",
    "     '\\n % of events from initial:', round(new_logs.shape[0]/logs.shape[0]*100, 2)\n",
    "      )\n",
    "\n",
    "#number of unique users\n",
    "print(\n",
    "     '\\nNumber of users after data clearing:', len(new_logs['device_idhash'].unique()),\n",
    "     '\\n Number of lost users:', len(logs['device_idhash'].unique()) - len(new_logs['device_idhash'].unique()),\n",
    "     '\\n % of users from initial:', round(new_logs['device_idhash'].nunique() / logs['device_idhash'].nunique()*100, 2))"
   ]
  },
  {
   "cell_type": "markdown",
   "metadata": {
    "id": "ZKYiNa3iytHf"
   },
   "source": [
    "* Lost 2826 observations, which is 1.16%.\n",
    "* The number of \"lost\" users is 17, which is 0.23%\n",
    "\n",
    "The losses of both observations and users are not significant."
   ]
  },
  {
   "cell_type": "markdown",
   "metadata": {
    "id": "8VK57gF_ytHf"
   },
   "source": [
    "### Output:\n",
    "1. Total events in the log: 243713\n",
    "2. * 5 event names.\n",
    "  *  7551 unique user ids\n",
    "  * 3 experiment number: 246 and 247 are control groups, and 248 is experimental.\n",
    "  * 14 dates on which observations were carried out\n",
    "3. Average number of events per user: 32\n",
    "4. * Minimum observation date: 2019-07-25 04:43:36\n",
    "  * Maximum observation date: 2019-08-07 21:15:17\n",
    "5. Discarding incomplete data, 17 users and 2610 observations were lost."
   ]
  },
  {
   "cell_type": "markdown",
   "metadata": {
    "id": "YDNtf6UdytHf"
   },
   "source": [
    "## 4. Explore the funnel of events"
   ]
  },
  {
   "cell_type": "code",
   "execution_count": null,
   "metadata": {
    "colab": {
     "base_uri": "https://localhost:8080/"
    },
    "id": "v05gcU3ZytHX",
    "outputId": "d9ca9390-6703-4c61-f018-79757452981b"
   },
   "outputs": [],
   "source": [
    "logs['event_name'].unique() "
   ]
  },
  {
   "cell_type": "markdown",
   "metadata": {
    "id": "qAKFwVxzytHX"
   },
   "source": [
    "1. MainScreenAppear - appearance of the main screen\n",
    "2. OffersScreenAppear - the appearance of a screen with an offer;\n",
    "3. CartScreenAppear - the appearance of the screen with the cart;\n",
    "4. PaymentScreenSuccessful - screen about successful payment;\n",
    "5. Tutorial - familiarize yourself with the instructions."
   ]
  },
  {
   "cell_type": "code",
   "execution_count": null,
   "metadata": {
    "colab": {
     "base_uri": "https://localhost:8080/"
    },
    "id": "LeJBxra4ytHg",
    "outputId": "99275a9b-f9a6-4e5c-d15c-6cd618fb0f4e"
   },
   "outputs": [],
   "source": [
    "new_logs['event_name'].value_counts() # # # let's look at the distribution of lags between events"
   ]
  },
  {
   "cell_type": "code",
   "execution_count": null,
   "metadata": {
    "colab": {
     "base_uri": "https://localhost:8080/",
     "height": 206
    },
    "id": "VdlVr_NhytHg",
    "outputId": "e71fb84c-55fa-4673-a4e6-e04ab3a89d2b"
   },
   "outputs": [],
   "source": [
    "# calculation of the number of users for all possible events.\n",
    "event_user = (new_logs\n",
    "                 .groupby('event_name')\n",
    "                 .agg({'device_idhash':'nunique'})\n",
    "                 .reset_index()\n",
    "                 .sort_values(by='device_idhash', ascending=False)\n",
    "                 .reset_index(drop=True)\n",
    "                 )\n",
    "event_user.columns = ['event_name', 'user_cnt']\n",
    "event_user"
   ]
  },
  {
   "cell_type": "markdown",
   "metadata": {
    "id": "IndSQ_ctK0FN"
   },
   "source": [
    "The places were distributed by the number of users for each event in the same way as by the frequency of events."
   ]
  },
  {
   "cell_type": "markdown",
   "metadata": {},
   "source": [
    "Creating a table for analysis"
   ]
  },
  {
   "cell_type": "code",
   "execution_count": null,
   "metadata": {
    "colab": {
     "base_uri": "https://localhost:8080/",
     "height": 206
    },
    "id": "33m0ppkFytHi",
    "outputId": "e3bd2cbb-2ed3-4511-ce15-bf6b65b61f75"
   },
   "outputs": [],
   "source": [
    "# Group data by event, its frequency and the number of unique users\n",
    "event_user = (\n",
    "         new_logs.groupby('event_name').agg({'event_name':'count', 'device_idhash': 'nunique'})\n",
    "         .rename(columns={'event_name':'event_cnt', 'device_idhash':'user_cnt'})\n",
    "         .sort_values(by ='event_cnt', ascending=False).reset_index()\n",
    "     )\n",
    "\n",
    "# Share of unique users relative to the total number of users\n",
    "event_user['rate %'] = round((event_user['user_cnt'] / len(new_logs['device_idhash'].unique())) * 100, 1)\n",
    "\n",
    "# Shift the user_cnt column down one row\n",
    "event_user['step'] = event_user['user_cnt'].shift()\n",
    "\n",
    "# Conversion to next step\n",
    "event_user['convers_step'] = round(event_user['user_cnt'] / event_user['step'] * 100, 1)\n",
    "\n",
    "# Remove the step column\n",
    "event_user.drop(columns= ['step'], axis = 1, inplace = True)\n",
    "\n",
    "# I will replace NaN in the first line with 100% and we will use them as the next step\n",
    "event_user = event_user.fillna(100)\n",
    "\n",
    "event_user"
   ]
  },
  {
   "cell_type": "markdown",
   "metadata": {
    "id": "ZczdchnaL-Gl"
   },
   "source": [
    "It can be seen that not all users go to the main screen, perhaps they leave at the tutorial stage. There may be problems with the usability of the instructions and their complexity for understanding. Or the part comes bypassing the main screen."
   ]
  },
  {
   "cell_type": "code",
   "execution_count": null,
   "metadata": {
    "colab": {
     "base_uri": "https://localhost:8080/",
     "height": 517
    },
    "id": "DyH19LUMytHg",
    "outputId": "05026c89-1483-4940-a0ff-586e7a047760",
    "scrolled": true
   },
   "outputs": [],
   "source": [
    "# Build a graph of event frequency\n",
    "fig2 = go.Figure(go.Bar(\n",
    "         x=event_user['event_cnt'],\n",
    "         y=event_user['event_name'],\n",
    "         orientation='h',\n",
    "         textposition=\"inside\",))\n",
    "\n",
    "fig2.update_layout(\n",
    "     title=\"Event frequency\",\n",
    "     font=dict(size=12),\n",
    "     width=500,\n",
    "     height=500,)\n",
    "\n",
    "# Building a graph of the event funnel\n",
    "fig1 = go.Figure(go.Funnel(\n",
    "     y=event_user['event_name'],\n",
    "     x=event_user['user_cnt'],\n",
    "     textposition=\"inside\",))\n",
    "\n",
    "fig1.update_layout(\n",
    "     title=\"Event Funnel\",\n",
    "     font=dict(size=12),\n",
    "     width=500,\n",
    "     height=500)\n",
    "\n",
    "# Merging two graphs\n",
    "fig = sp.make_subplots(rows=1, cols=2, subplot_titles=(\"Event Funnel\", \"Event Frequency\"))\n",
    "fig.add_trace(fig1.data[0], row=1, col=1)\n",
    "fig.add_trace(fig2.data[0], row=1, col=2)\n",
    "\n",
    "# General name of graphs\n",
    "fig.update_layout(\n",
    "     title_x=0.50,\n",
    "     title_text=\"App Events\",\n",
    "     font=dict(size=12))\n",
    "\n",
    "fig.update_layout(width=1750, height=500)\n",
    "\n",
    "fig.show()"
   ]
  },
  {
   "cell_type": "markdown",
   "metadata": {
    "id": "1I6uupB7ytHh"
   },
   "source": [
    "The number of users for each event was distributed:\n",
    "1. 7,419 users entered the main screen. \n",
    "2. The offer screen was opened by 4,593 users. \n",
    "3. The screen with the basket appeared in 3,734 users.\n",
    "4. Screen with successful payment - 3,539 users. \n",
    "5. The instruction was opened by 840 users, which indicates that not every user needs a tutorial to complete all the steps before payment.\n",
    "\n",
    "Frequency of events:\n",
    "1. The most frequent event is the opening of the main screen (117,328 times).\n",
    "2. A screen with suggestions (46,333 times). \n",
    "3. Basket (42,303 times).\n",
    "4. Successful payment (33,918 times). \n",
    "5. Tutorial (1,005 times). \n",
    "\n",
    "It is possible that users do not consider it necessary to read the instructions and refer to it only if necessary.\n",
    "Therefore, it is probably not necessary to take into account the Tutorial in the funnel."
   ]
  },
  {
   "cell_type": "code",
   "execution_count": null,
   "metadata": {
    "id": "S7MQ_KMGNR5i"
   },
   "outputs": [],
   "source": [
    "event_user = event_user.query('event_name != \"Tutorial\"').reset_index(drop=True) # Delet Tutorial "
   ]
  },
  {
   "cell_type": "code",
   "execution_count": null,
   "metadata": {
    "colab": {
     "base_uri": "https://localhost:8080/",
     "height": 617
    },
    "id": "g-GHCS5jytHi",
    "outputId": "bfcd38d2-68a1-4291-95d1-16bc4a662f59"
   },
   "outputs": [],
   "source": [
    "fig = go.Figure(go.Funnel(\n",
    "    y=event_user['event_name'],\n",
    "    x=event_user['user_cnt'],\n",
    "    textposition=\"inside\",\n",
    "    textinfo=\"value+percent previous\"))\n",
    "\n",
    "fig.update_layout(\n",
    "    title=\"Funnel of events\", title_x=0.50,\n",
    "    font=dict(size=12),\n",
    "    width=800,\n",
    "    height=500)\n",
    "\n",
    "fig.show()"
   ]
  },
  {
   "cell_type": "markdown",
   "metadata": {
    "id": "17GesvknPbCD"
   },
   "source": [
    "From the analysis of the funnel of events, it follows that the transition to the offer screen is the most difficult stage for users. It is successfully passed by only 62% of users who go to the main screen, then at the next step, 82 users who got to the screen with the offer go to the shopping cart. And finally, of those who get into the basket, 95% complete the purchase. I would venture to assume that the application may have usability problems on the home screen, which lead to an outflow of users."
   ]
  },
  {
   "cell_type": "code",
   "execution_count": null,
   "metadata": {
    "colab": {
     "base_uri": "https://localhost:8080/"
    },
    "id": "F4j-DZ34T-m9",
    "outputId": "4b18e683-899f-4bd6-fc68-e3fa822adaae"
   },
   "outputs": [],
   "source": [
    "result = (\n",
    "     event_user.loc[event_user['event_name']=='PaymentScreenSuccessful', 'user_cnt'].sum() /\n",
    "     event_user.loc[event_user['event_name']=='MainScreenAppear', 'user_cnt'].sum() * 100\n",
    ")\n",
    "print(\"Percentage of users who passed from the first event to payment: {:.2f}%\".format(result))"
   ]
  },
  {
   "cell_type": "markdown",
   "metadata": {
    "id": "WD4R1WCVbHdx"
   },
   "source": [
    "### Conclusion:\n",
    "*  Not all users go to the main screen, perhaps they leave at the tutorial stage.And the instructions in the application may have problems (complexity, usability, etc.)\n",
    "* Places by the number of users and by the frequency of events were distributed equally.\n",
    " 1. The most frequent event is the opening of the main screen.\n",
    " 2. A screen with suggestions.\n",
    " 3. Shopping cart.\n",
    " 4. Successful payment.\n",
    " 5. Tutorial\n",
    "\n",
    "*  We found out that the transition to the offer screen is the most difficult stage for users.\n",
    " * Suggested that the application may have usability problems on the home screen, which lead to an outflow of users.\n",
    " * Calculated the percentage of users who passed from the first event to payment: 47.70%"
   ]
  },
  {
   "cell_type": "markdown",
   "metadata": {
    "id": "05Wquo7BIXkD"
   },
   "source": [
    "## 5. Explore results of test"
   ]
  },
  {
   "cell_type": "code",
   "execution_count": null,
   "metadata": {
    "colab": {
     "base_uri": "https://localhost:8080/"
    },
    "id": "CsRomsp4ytHZ",
    "outputId": "f32fe2c1-83a7-456e-b48d-7169c45f7f18"
   },
   "outputs": [],
   "source": [
    "new_logs['exp_id'].value_counts() # distribution of events by groups"
   ]
  },
  {
   "cell_type": "markdown",
   "metadata": {
    "id": "30P0AyQeytHa"
   },
   "source": [
    "The largest number of events in the experimental group is 248, the second place is in the group 246 and the last place is 247.\n",
    "* The number of events in the experimental 248 group is 6.74% more than 246 and 9.79% higher than in 247."
   ]
  },
  {
   "cell_type": "code",
   "execution_count": null,
   "metadata": {},
   "outputs": [],
   "source": [
    "new_logs.groupby('exp_id')['device_idhash'].nunique().sort_values(ascending=False) # number of users by group"
   ]
  },
  {
   "cell_type": "markdown",
   "metadata": {
    "id": "wZ0HlsmzytHc"
   },
   "source": [
    "The groups are formed exactly without a big difference in the number of participants.\n",
    "But most of all users in the experimental group."
   ]
  },
  {
   "cell_type": "code",
   "execution_count": null,
   "metadata": {},
   "outputs": [],
   "source": [
    "user_group_counts = new_logs.groupby('device_idhash')['exp_id'].nunique()\n",
    "users_in_group = user_group_counts[user_group_counts > 1].index.tolist()\n",
    "print(f\"Number of users included in more than one group: {len(users_in_group)}\")"
   ]
  },
  {
   "cell_type": "code",
   "execution_count": null,
   "metadata": {},
   "outputs": [],
   "source": [
    "def event_group_pivot(group):\n",
    "     result = (\n",
    "         new_logs\n",
    "         .query('exp_id == @group and event_name != \"Tutorial\"')\n",
    "         .groupby('event_name')\n",
    "         .agg(device_count=('device_idhash', 'nunique'))\n",
    "         .sort_values(by='device_count', ascending=False)\n",
    "         .reset_index()\n",
    "     )\n",
    "     return result\n",
    "\n",
    "def event_group_ratio(df):\n",
    "     unique_devices = new_logs['device_idhash'].nunique()\n",
    "     df['ratio'] = round((df['device_count'] / unique_devices), 3)\n",
    "\n",
    "# Tables for each group\n",
    "event_246_pivot = event_group_pivot(246)\n",
    "event_group_ratio(event_246_pivot)\n",
    "event_246_pivot.columns = ['event_name', '246', '246_pr_user']\n",
    "\n",
    "event_247_pivot = event_group_pivot(247)\n",
    "event_group_ratio(event_247_pivot)\n",
    "event_247_pivot.columns = ['event_name', '247', '247_pr_user']\n",
    "\n",
    "event_248_pivot = event_group_pivot(248)\n",
    "event_group_ratio(event_248_pivot)\n",
    "event_248_pivot.columns = ['event_name', '248', '248_pr_user']\n",
    "\n",
    "# Joining tables\n",
    "event_group_pivot = (\n",
    "     event_246_pivot\n",
    "     .merge(event_247_pivot, on='event_name')\n",
    "     .merge(event_248_pivot, on='event_name')\n",
    "     )\n",
    "\n",
    "event_group_pivot"
   ]
  },
  {
   "cell_type": "code",
   "execution_count": null,
   "metadata": {},
   "outputs": [],
   "source": [
    "fig = go.Figure(go.Funnel(\n",
    "    name='246',\n",
    "    y = event_group_pivot['event_name'],\n",
    "    x = event_group_pivot['246'],\n",
    "    textinfo = 'value+percent initial'))\n",
    "\n",
    "fig.add_trace(go.Funnel(\n",
    "    name='247',\n",
    "    y = event_group_pivot['event_name'],\n",
    "    x = event_group_pivot['247'],\n",
    "    textinfo = 'value+percent initial'))\n",
    "\n",
    "fig.add_trace(go.Funnel(\n",
    "    name='248',\n",
    "    y = event_group_pivot['event_name'],\n",
    "    x = event_group_pivot['248'],\n",
    "    textinfo = 'value+percent initial'))\n",
    "\n",
    "fig.update_layout(\n",
    "    title=\"Funnel of events groups\", title_x=0.50,\n",
    "    font=dict(size=12),\n",
    "    width=900,\n",
    "    height=600)\n",
    "\n",
    "fig.show()"
   ]
  },
  {
   "cell_type": "markdown",
   "metadata": {},
   "source": [
    "At first glance, group 246 seems to be a little more successful than the rest of the groups at almost all stages. Groups 247 and 248 practically do not differ from each other (with the exception of the basket stage)."
   ]
  },
  {
   "cell_type": "code",
   "execution_count": null,
   "metadata": {},
   "outputs": [],
   "source": [
    "fig = make_subplots(rows=2, cols=2, subplot_titles=[\n",
    "     'MainScreenAppear', 'OffersScreenAppear', 'CartScreenAppear', 'PaymentScreenSuccessful'\n",
    "])\n",
    "\n",
    "fig.update_layout(title='Distribution of the number of users by groups and event dates', height=800, title_x=0.50)\n",
    "\n",
    "for idx, event_name in enumerate(['MainScreenAppear', 'OffersScreenAppear', 'CartScreenAppear', 'PaymentScreenSuccessful'], 1):\n",
    "     row = (idx - 1) // 2 + 1\n",
    "     col = idx % 2 if idx % 2 else 2\n",
    "     for exp_id in new_logs['exp_id'].unique():\n",
    "         data = new_logs.query('event_name == @event_name and exp_id == @exp_id')['date_time']\n",
    "         fig.add_trace(go.Histogram(x=data, name=f'Group {exp_id}'), row=row, col=col)\n",
    "\n",
    "fig.update_xaxes(title_text='Date', tickformat='%d-%m-%y', row=1, col=1)\n",
    "fig.update_xaxes(title_text='Date', tickformat='%d-%m-%y', row=1, col=2)\n",
    "fig.update_xaxes(title_text='Date', tickformat='%d-%m-%y', row=2, col=1)\n",
    "fig.update_xaxes(title_text='Date', tickformat='%d-%m-%y', row=2, col=2)\n",
    "fig.update_yaxes(title_text='Number of users', row=1, col=1)\n",
    "fig.update_yaxes(title_text='Number of users', row=1, col=2)\n",
    "fig.update_yaxes(title_text='Number of users', row=2, col=1)\n",
    "fig.update_yaxes(title_text='Number of users', row=2, col=2)\n",
    "\n",
    "fig.update_layout(width=1600, height=800)\n",
    "\n",
    "fig.show()"
   ]
  },
  {
   "cell_type": "markdown",
   "metadata": {},
   "source": [
    "The data for the day have a normal distribution with small deviations on individual days. This allows us to formulate and test the hypothesis about the equality of shares in events for different groups.You can use the Z-criterion for the difference of fractions. This criterion is based on the normal distribution of the difference of sample fractions and allows us to test the hypothesis of equality of fractions between two groups."
   ]
  },
  {
   "cell_type": "markdown",
   "metadata": {},
   "source": [
    "### Investigating the difference between A/A test samples"
   ]
  },
  {
   "cell_type": "markdown",
   "metadata": {},
   "source": [
    "Let 's define hypotheses:\n",
    "* Hypothesis H0 the shares of two samples of unique visitors who visited the funnel stage are equal to each other.\n",
    "* Hypothesis H1 there is a significant difference between the shares of unique visitors who visited the funnel stage..\n",
    "* We will choose the significance level equal to 1%, which means that the probability of mistakenly rejecting H0 if it is true should not exceed 1%.\n",
    "I lowered the significance level because we will test 4 groups with each other, taking into account the fact that we have multiple hypothesis testing, which means the risk of a false positive result increases, to find differences where they actually do not exist."
   ]
  },
  {
   "cell_type": "markdown",
   "metadata": {},
   "source": [
    "A function for conducting a z-test to test the hypothesis of the equality of the fractions of two samples"
   ]
  },
  {
   "cell_type": "code",
   "execution_count": null,
   "metadata": {},
   "outputs": [],
   "source": [
    "def z_test(exp_group_1, exp_group_2, event, alpha):\n",
    "    \n",
    "     alpha = alpha\n",
    "    \n",
    "     group_1 = new_logs.query('exp_id == @exp_group_1')\n",
    "     group_2 = new_logs.query('exp_id == @exp_group_2')\n",
    "\n",
    "     #sample values at the level of the event being tested\n",
    "     successes = np.array([event_group_pivot.query('event_name == @event')[str(exp_group_1)].sum(),\n",
    "                           event_group_pivot.query('event_name == @event')[str(exp_group_2)].sum()])\n",
    "    \n",
    "     #initial sample values\n",
    "     trials = np.array([len(group_1['device_idhash'].unique()), len(group_2['device_idhash'].unique())])\n",
    "    \n",
    "     # proportion of successes in groups:\n",
    "     p1 = successes[0]/trials[0]\n",
    "     p2 = successes[1]/trials[1]\n",
    "    \n",
    "     # proportion of successes in the combined dataset:\n",
    "     p_combined = (successes[0] + successes[1]) / (trials[0] + trials[1])\n",
    "    \n",
    "     # difference in proportions in datasets\n",
    "     difference = p1 - p2\n",
    "    \n",
    "     # calculate statistics in standard deviations of the standard normal distribution\n",
    "     z_value = difference / math.sqrt(p_combined * (1 - p_combined) * (1/trials[0] + 1/trials[1]))\n",
    "    \n",
    "     # set the standard normal distribution (mean 0, standard deviation 1)\n",
    "     distr = st.norm(0, 1)\n",
    "    \n",
    "     p_value = (1 - distr.cdf(abs(z_value))) * 2\n",
    "    \n",
    "     print('p-value: ', round(p_value, 4))\n",
    "     if (p_value < alpha):\n",
    "         print('Reject the null hypothesis: there is a significant difference between the proportions')\n",
    "     else:\n",
    "         print('It was not possible to reject the null hypothesis, there is no reason to consider the shares to be different.')"
   ]
  },
  {
   "cell_type": "code",
   "execution_count": null,
   "metadata": {},
   "outputs": [],
   "source": [
    "z_test(246, 247, 'MainScreenAppear', 0.01)"
   ]
  },
  {
   "cell_type": "code",
   "execution_count": null,
   "metadata": {},
   "outputs": [],
   "source": [
    "z_test(246, 247, 'OffersScreenAppear', 0.01)"
   ]
  },
  {
   "cell_type": "code",
   "execution_count": null,
   "metadata": {},
   "outputs": [],
   "source": [
    "z_test(246, 247, 'CartScreenAppear', 0.01)"
   ]
  },
  {
   "cell_type": "code",
   "execution_count": null,
   "metadata": {},
   "outputs": [],
   "source": [
    "z_test(246, 247, 'PaymentScreenSuccessful', 0.01)"
   ]
  },
  {
   "cell_type": "markdown",
   "metadata": {},
   "source": [
    "#### Conclusion:\n",
    "Based on the results of all A/A tests, where the absence of statistically significant differences in the proportions of users who committed each of the events was checked, we can conclude that the division into groups occurs correctly."
   ]
  },
  {
   "cell_type": "markdown",
   "metadata": {},
   "source": [
    "### Investigation of the difference between A/B test samples"
   ]
  },
  {
   "cell_type": "code",
   "execution_count": null,
   "metadata": {},
   "outputs": [],
   "source": [
    "event_group_pivot['Cluster_246_247'] = (event_group_pivot['246'] + event_group_pivot['247'])\n",
    "event_group_pivot['Cluster_246_247'] = event_group_pivot['Cluster_246_247'].astype('int')\n",
    "event_group_pivot"
   ]
  },
  {
   "cell_type": "markdown",
   "metadata": {},
   "source": [
    "Function for comparison with a combined group."
   ]
  },
  {
   "cell_type": "code",
   "execution_count": null,
   "metadata": {},
   "outputs": [],
   "source": [
    "def z_test_united(exp_group_2, event, alpha):\n",
    "    \n",
    "     alpha=alpha\n",
    "     group_1 = new_logs.query('exp_id == 246 | exp_id == 247')\n",
    "     group_2 = new_logs.query('exp_id == @exp_group_2')\n",
    "\n",
    "     successes = np.array([event_group_pivot.query('event_name == @event')['Cluster_246_247'].sum(),\n",
    "                           event_group_pivot.query('event_name == @event')[str(exp_group_2)].sum()])\n",
    "     trials = np.array([len(group_1['device_idhash'].unique()), len(group_2['device_idhash'].unique())])\n",
    "    \n",
    "     p1 = successes[0]/trials[0]\n",
    "     p2 = successes[1]/trials[1]\n",
    "     p_combined = (successes[0] + successes[1]) / (trials[0] + trials[1])\n",
    "    \n",
    "     difference = p1 - p2\n",
    "    \n",
    "     z_value = difference / math.sqrt(p_combined * (1 - p_combined) * (1/trials[0] + 1/trials[1]))\n",
    "     distr = st.norm(0, 1)\n",
    "     p_value = (1 - distr.cdf(abs(z_value))) * 2\n",
    "    \n",
    "     print('p-value: ', round(p_value, 4))\n",
    "     if (p_value < alpha):\n",
    "         print('Reject the null hypothesis: there is a significant difference between the proportions')\n",
    "     else:\n",
    "         print('It was not possible to reject the null hypothesis, there is no reason to consider the shares to be different.')"
   ]
  },
  {
   "cell_type": "markdown",
   "metadata": {},
   "source": [
    "#### A/B-test for the \"MainScreenAppear\" event"
   ]
  },
  {
   "cell_type": "code",
   "execution_count": null,
   "metadata": {},
   "outputs": [],
   "source": [
    "z_test(246, 248, 'MainScreenAppear', 0.01)\n",
    "z_test(247, 248, 'MainScreenAppear', 0.01)\n",
    "z_test_united(248, 'MainScreenAppear', 0.01)"
   ]
  },
  {
   "cell_type": "markdown",
   "metadata": {},
   "source": [
    "##### There is no reason to consider the shares at the first step different."
   ]
  },
  {
   "cell_type": "markdown",
   "metadata": {},
   "source": [
    "#### A/B-тест для события \"OffersScreenAppear\""
   ]
  },
  {
   "cell_type": "code",
   "execution_count": null,
   "metadata": {},
   "outputs": [],
   "source": [
    "z_test(246, 248, 'OffersScreenAppear', 0.01)\n",
    "z_test(247, 248, 'OffersScreenAppear', 0.01)\n",
    "z_test_united(248, 'OffersScreenAppear', 0.01)"
   ]
  },
  {
   "cell_type": "markdown",
   "metadata": {},
   "source": [
    "##### There is no reason to consider the shares at the second step different."
   ]
  },
  {
   "cell_type": "markdown",
   "metadata": {},
   "source": [
    "#### A/B-test for the 'CartScreenAppear' event"
   ]
  },
  {
   "cell_type": "code",
   "execution_count": null,
   "metadata": {},
   "outputs": [],
   "source": [
    "z_test(246, 248, 'CartScreenAppear', 0.01)\n",
    "z_test(247, 248, 'CartScreenAppear', 0.01)\n",
    "z_test_united(248, 'CartScreenAppear', 0.01)"
   ]
  },
  {
   "cell_type": "markdown",
   "metadata": {},
   "source": [
    "##### There is no reason to consider the shares in the third step different."
   ]
  },
  {
   "cell_type": "markdown",
   "metadata": {},
   "source": [
    "#### A/B-test for the 'PaymentScreenSuccessful' event"
   ]
  },
  {
   "cell_type": "code",
   "execution_count": null,
   "metadata": {},
   "outputs": [],
   "source": [
    "z_test(246, 248, 'PaymentScreenSuccessful', 0.01)\n",
    "z_test(247, 248, 'PaymentScreenSuccessful', 0.01)\n",
    "z_test_united(248, 'PaymentScreenSuccessful', 0.01)"
   ]
  },
  {
   "cell_type": "markdown",
   "metadata": {},
   "source": [
    "##### And at the fourth step, no significant differences in the proportions between the groups were found."
   ]
  },
  {
   "cell_type": "markdown",
   "metadata": {},
   "source": [
    "##### Conclusion:\n",
    "- 4 z-tests of control groups 246 and 247 in the context of funnel events: there were no statistically significant differences between the groups, which means that the samples were made correctly.\n",
    "\n",
    "- 12 z-tests of similar tests with the control and the tested group: no statistically significant differences between the conversions of the groups were revealed.\n",
    "\n",
    "Since 16 tests were conducted in the end, in order for the group probability of error not to exceed a certain level of significance α (we lowered the significance level to 0.01), if the number of groups was greater, we would have applied the Bonferroni correction to the coefficient of statistical significance.\n",
    "\n",
    "\n",
    "Based on the conducted A/B tests, we can conclude that changes in the design of the site (font changes) did not lead to statistically significant changes in user behavior. In general, the test results show that users quickly adapted to the new design and continued their normal behavior. We can conclude that the design changes did not have a significant impact on users."
   ]
  },
  {
   "cell_type": "markdown",
   "metadata": {},
   "source": [
    "## The main conclusion:\n",
    "From the presented data is that the application has usability problems on the offer screen, which leads to an outflow of users. Moreover, changing fonts did not lead to statistically significant changes in user behavior. Also, it can be concluded that the division into groups within the framework of the conducted A/A tests occurs correctly. In general, the conducted experiment allows us to draw conclusions about the current state of the application and what measures can be taken to improve its usability.\n",
    " In addition, it is worth considering that the conclusions drawn on the basis of A/B testing depend on the selected level of significance. For example, if we had chosen a significance level of 10%, we would have found significant differences between groups 246 and 248 regarding the appearance of the basket. However, at this level of significance, every tenth time you can get a false result, and we conducted 16 tests. Therefore, when choosing the significance level, you should be careful and take into account its impact on the results and conclusions."
   ]
  }
 ],
 "metadata": {
  "ExecuteTimeLog": [
   {
    "duration": 868,
    "start_time": "2023-05-01T17:26:21.382Z"
   },
   {
    "duration": 134,
    "start_time": "2023-05-01T17:26:22.252Z"
   },
   {
    "duration": 15,
    "start_time": "2023-05-01T17:26:22.387Z"
   },
   {
    "duration": 32,
    "start_time": "2023-05-01T17:26:22.404Z"
   },
   {
    "duration": 93,
    "start_time": "2023-05-01T17:26:22.439Z"
   },
   {
    "duration": 74,
    "start_time": "2023-05-01T17:26:22.534Z"
   },
   {
    "duration": 108,
    "start_time": "2023-05-01T17:26:22.610Z"
   },
   {
    "duration": 61,
    "start_time": "2023-05-01T17:26:22.720Z"
   },
   {
    "duration": 10,
    "start_time": "2023-05-01T17:26:22.782Z"
   },
   {
    "duration": 15,
    "start_time": "2023-05-01T17:26:22.793Z"
   },
   {
    "duration": 26,
    "start_time": "2023-05-01T17:26:22.810Z"
   },
   {
    "duration": 5382,
    "start_time": "2023-05-01T17:26:22.838Z"
   },
   {
    "duration": 150,
    "start_time": "2023-05-01T17:26:28.222Z"
   },
   {
    "duration": 17,
    "start_time": "2023-05-01T17:26:28.375Z"
   },
   {
    "duration": 86,
    "start_time": "2023-05-01T17:26:28.393Z"
   },
   {
    "duration": 125,
    "start_time": "2023-05-01T17:26:28.481Z"
   },
   {
    "duration": 66,
    "start_time": "2023-05-01T17:26:28.607Z"
   },
   {
    "duration": 227,
    "start_time": "2023-05-01T17:26:28.675Z"
   },
   {
    "duration": 6,
    "start_time": "2023-05-01T17:26:28.904Z"
   },
   {
    "duration": 12,
    "start_time": "2023-05-01T17:26:28.911Z"
   },
   {
    "duration": 5,
    "start_time": "2023-05-01T17:26:28.924Z"
   },
   {
    "duration": 43,
    "start_time": "2023-05-01T17:26:28.930Z"
   },
   {
    "duration": 37,
    "start_time": "2023-05-01T17:26:28.974Z"
   },
   {
    "duration": 29,
    "start_time": "2023-05-01T17:26:29.013Z"
   },
   {
    "duration": 142,
    "start_time": "2023-05-01T17:26:29.043Z"
   },
   {
    "duration": 12,
    "start_time": "2023-05-01T17:26:29.186Z"
   },
   {
    "duration": 5022,
    "start_time": "2023-05-01T17:26:29.199Z"
   },
   {
    "duration": 7,
    "start_time": "2023-05-01T17:26:34.223Z"
   },
   {
    "duration": 66,
    "start_time": "2023-05-01T17:26:34.232Z"
   },
   {
    "duration": 78,
    "start_time": "2023-05-01T17:26:34.300Z"
   },
   {
    "duration": 24,
    "start_time": "2023-05-01T17:26:34.379Z"
   },
   {
    "duration": 82,
    "start_time": "2023-05-01T17:26:34.405Z"
   },
   {
    "duration": 14,
    "start_time": "2023-05-01T17:26:34.489Z"
   },
   {
    "duration": 7,
    "start_time": "2023-05-01T17:26:34.505Z"
   },
   {
    "duration": 186,
    "start_time": "2023-05-01T17:26:34.514Z"
   },
   {
    "duration": 94,
    "start_time": "2023-05-01T17:26:34.702Z"
   },
   {
    "duration": 56,
    "start_time": "2023-05-01T17:26:34.798Z"
   },
   {
    "duration": 67,
    "start_time": "2023-05-01T17:26:34.855Z"
   },
   {
    "duration": 13,
    "start_time": "2023-05-01T17:31:28.889Z"
   },
   {
    "duration": 26,
    "start_time": "2023-05-01T17:34:05.771Z"
   },
   {
    "duration": 1010,
    "start_time": "2023-05-02T09:25:31.519Z"
   },
   {
    "duration": 815,
    "start_time": "2023-05-02T09:25:32.531Z"
   },
   {
    "duration": 14,
    "start_time": "2023-05-02T09:25:33.348Z"
   },
   {
    "duration": 23,
    "start_time": "2023-05-02T09:25:33.364Z"
   },
   {
    "duration": 95,
    "start_time": "2023-05-02T09:25:33.391Z"
   },
   {
    "duration": 80,
    "start_time": "2023-05-02T09:25:33.488Z"
   },
   {
    "duration": 144,
    "start_time": "2023-05-02T09:25:33.570Z"
   },
   {
    "duration": 89,
    "start_time": "2023-05-02T09:25:33.716Z"
   },
   {
    "duration": 18,
    "start_time": "2023-05-02T09:25:33.807Z"
   },
   {
    "duration": 27,
    "start_time": "2023-05-02T09:25:33.827Z"
   },
   {
    "duration": 17,
    "start_time": "2023-05-02T09:25:33.856Z"
   },
   {
    "duration": 6262,
    "start_time": "2023-05-02T09:25:33.875Z"
   },
   {
    "duration": 161,
    "start_time": "2023-05-02T09:25:40.141Z"
   },
   {
    "duration": 20,
    "start_time": "2023-05-02T09:25:40.306Z"
   },
   {
    "duration": 76,
    "start_time": "2023-05-02T09:25:40.329Z"
   },
   {
    "duration": 202,
    "start_time": "2023-05-02T09:25:40.406Z"
   },
   {
    "duration": 15,
    "start_time": "2023-05-02T09:25:40.611Z"
   },
   {
    "duration": 282,
    "start_time": "2023-05-02T09:25:40.628Z"
   },
   {
    "duration": 7,
    "start_time": "2023-05-02T09:25:40.912Z"
   },
   {
    "duration": 18,
    "start_time": "2023-05-02T09:25:40.920Z"
   },
   {
    "duration": 6,
    "start_time": "2023-05-02T09:25:40.986Z"
   },
   {
    "duration": 23,
    "start_time": "2023-05-02T09:25:40.994Z"
   },
   {
    "duration": 39,
    "start_time": "2023-05-02T09:25:41.019Z"
   },
   {
    "duration": 63,
    "start_time": "2023-05-02T09:25:41.060Z"
   },
   {
    "duration": 181,
    "start_time": "2023-05-02T09:25:41.125Z"
   },
   {
    "duration": 22,
    "start_time": "2023-05-02T09:25:41.311Z"
   },
   {
    "duration": 5849,
    "start_time": "2023-05-02T09:25:41.335Z"
   },
   {
    "duration": 11,
    "start_time": "2023-05-02T09:25:47.187Z"
   },
   {
    "duration": 86,
    "start_time": "2023-05-02T09:25:47.200Z"
   },
   {
    "duration": 33,
    "start_time": "2023-05-02T09:25:47.288Z"
   },
   {
    "duration": 77,
    "start_time": "2023-05-02T09:25:47.324Z"
   },
   {
    "duration": 25,
    "start_time": "2023-05-02T09:25:47.403Z"
   },
   {
    "duration": 15,
    "start_time": "2023-05-02T09:25:47.485Z"
   },
   {
    "duration": 9,
    "start_time": "2023-05-02T09:25:47.502Z"
   },
   {
    "duration": 184,
    "start_time": "2023-05-02T09:25:47.513Z"
   },
   {
    "duration": 126,
    "start_time": "2023-05-02T09:25:47.700Z"
   },
   {
    "duration": 186,
    "start_time": "2023-05-02T09:25:47.829Z"
   },
   {
    "duration": 100,
    "start_time": "2023-05-02T09:25:48.017Z"
   },
   {
    "duration": 874,
    "start_time": "2023-05-02T09:29:00.082Z"
   },
   {
    "duration": 130,
    "start_time": "2023-05-02T09:32:43.277Z"
   },
   {
    "duration": 1035,
    "start_time": "2023-05-02T09:33:43.713Z"
   },
   {
    "duration": 113,
    "start_time": "2023-05-02T09:40:42.094Z"
   },
   {
    "duration": 81,
    "start_time": "2023-05-02T09:42:58.114Z"
   },
   {
    "duration": 77,
    "start_time": "2023-05-02T09:44:32.261Z"
   },
   {
    "duration": 4,
    "start_time": "2023-05-02T09:47:18.214Z"
   },
   {
    "duration": 4,
    "start_time": "2023-05-02T09:49:03.128Z"
   },
   {
    "duration": 20,
    "start_time": "2023-05-02T09:49:46.505Z"
   },
   {
    "duration": 18,
    "start_time": "2023-05-02T09:50:59.417Z"
   },
   {
    "duration": 1233,
    "start_time": "2023-05-02T09:51:13.414Z"
   },
   {
    "duration": 63,
    "start_time": "2023-05-02T19:01:49.854Z"
   },
   {
    "duration": 955,
    "start_time": "2023-05-02T19:02:08.059Z"
   },
   {
    "duration": 703,
    "start_time": "2023-05-02T19:02:09.016Z"
   },
   {
    "duration": 17,
    "start_time": "2023-05-02T19:02:09.722Z"
   },
   {
    "duration": 28,
    "start_time": "2023-05-02T19:02:09.742Z"
   },
   {
    "duration": 76,
    "start_time": "2023-05-02T19:02:09.772Z"
   },
   {
    "duration": 85,
    "start_time": "2023-05-02T19:02:09.859Z"
   },
   {
    "duration": 143,
    "start_time": "2023-05-02T19:02:09.947Z"
   },
   {
    "duration": 69,
    "start_time": "2023-05-02T19:02:10.092Z"
   },
   {
    "duration": 12,
    "start_time": "2023-05-02T19:02:10.162Z"
   },
   {
    "duration": 21,
    "start_time": "2023-05-02T19:02:10.177Z"
   },
   {
    "duration": 6,
    "start_time": "2023-05-02T19:02:10.199Z"
   },
   {
    "duration": 5268,
    "start_time": "2023-05-02T19:02:10.206Z"
   },
   {
    "duration": 124,
    "start_time": "2023-05-02T19:02:15.477Z"
   },
   {
    "duration": 71,
    "start_time": "2023-05-02T19:02:15.603Z"
   },
   {
    "duration": 19,
    "start_time": "2023-05-02T19:02:15.676Z"
   },
   {
    "duration": 76,
    "start_time": "2023-05-02T19:02:15.697Z"
   },
   {
    "duration": 115,
    "start_time": "2023-05-02T19:02:15.776Z"
   },
   {
    "duration": 67,
    "start_time": "2023-05-02T19:02:15.893Z"
   },
   {
    "duration": 206,
    "start_time": "2023-05-02T19:02:15.962Z"
   },
   {
    "duration": 5,
    "start_time": "2023-05-02T19:02:16.170Z"
   },
   {
    "duration": 34,
    "start_time": "2023-05-02T19:02:16.176Z"
   },
   {
    "duration": 15,
    "start_time": "2023-05-02T19:02:16.212Z"
   },
   {
    "duration": 13,
    "start_time": "2023-05-02T19:02:16.229Z"
   },
   {
    "duration": 51,
    "start_time": "2023-05-02T19:02:16.244Z"
   },
   {
    "duration": 35,
    "start_time": "2023-05-02T19:02:16.297Z"
   },
   {
    "duration": 146,
    "start_time": "2023-05-02T19:02:16.333Z"
   },
   {
    "duration": 84,
    "start_time": "2023-05-02T19:02:16.480Z"
   },
   {
    "duration": 5080,
    "start_time": "2023-05-02T19:02:16.567Z"
   },
   {
    "duration": 7,
    "start_time": "2023-05-02T19:02:21.658Z"
   },
   {
    "duration": 92,
    "start_time": "2023-05-02T19:02:21.667Z"
   },
   {
    "duration": 24,
    "start_time": "2023-05-02T19:02:21.761Z"
   },
   {
    "duration": 77,
    "start_time": "2023-05-02T19:02:21.787Z"
   },
   {
    "duration": 24,
    "start_time": "2023-05-02T19:02:21.866Z"
   },
   {
    "duration": 69,
    "start_time": "2023-05-02T19:02:21.892Z"
   },
   {
    "duration": 7,
    "start_time": "2023-05-02T19:02:21.963Z"
   },
   {
    "duration": 188,
    "start_time": "2023-05-02T19:02:21.971Z"
   },
   {
    "duration": 120,
    "start_time": "2023-05-02T19:02:22.161Z"
   },
   {
    "duration": 95,
    "start_time": "2023-05-02T19:02:22.283Z"
   },
   {
    "duration": 61,
    "start_time": "2023-05-02T19:02:22.379Z"
   },
   {
    "duration": 0,
    "start_time": "2023-05-02T19:03:37.290Z"
   },
   {
    "duration": 82,
    "start_time": "2023-05-02T19:03:44.732Z"
   },
   {
    "duration": 87,
    "start_time": "2023-05-02T19:03:54.170Z"
   },
   {
    "duration": 17,
    "start_time": "2023-05-02T19:04:12.424Z"
   },
   {
    "duration": 69,
    "start_time": "2023-05-02T19:07:25.776Z"
   },
   {
    "duration": 76,
    "start_time": "2023-05-02T19:09:53.874Z"
   },
   {
    "duration": 34,
    "start_time": "2023-05-02T19:17:45.393Z"
   },
   {
    "duration": 99,
    "start_time": "2023-05-02T19:20:54.850Z"
   },
   {
    "duration": 104,
    "start_time": "2023-05-02T19:32:57.574Z"
   },
   {
    "duration": 902,
    "start_time": "2023-05-02T19:34:40.394Z"
   },
   {
    "duration": 154,
    "start_time": "2023-05-02T19:34:41.298Z"
   },
   {
    "duration": 16,
    "start_time": "2023-05-02T19:34:41.453Z"
   },
   {
    "duration": 23,
    "start_time": "2023-05-02T19:34:41.472Z"
   },
   {
    "duration": 89,
    "start_time": "2023-05-02T19:34:41.496Z"
   },
   {
    "duration": 88,
    "start_time": "2023-05-02T19:34:41.587Z"
   },
   {
    "duration": 134,
    "start_time": "2023-05-02T19:34:41.677Z"
   },
   {
    "duration": 68,
    "start_time": "2023-05-02T19:34:41.813Z"
   },
   {
    "duration": 13,
    "start_time": "2023-05-02T19:34:41.883Z"
   },
   {
    "duration": 19,
    "start_time": "2023-05-02T19:34:41.898Z"
   },
   {
    "duration": 6,
    "start_time": "2023-05-02T19:34:41.918Z"
   },
   {
    "duration": 5387,
    "start_time": "2023-05-02T19:34:41.925Z"
   },
   {
    "duration": 148,
    "start_time": "2023-05-02T19:34:47.314Z"
   },
   {
    "duration": 17,
    "start_time": "2023-05-02T19:34:47.464Z"
   },
   {
    "duration": 18,
    "start_time": "2023-05-02T19:34:47.482Z"
   },
   {
    "duration": 81,
    "start_time": "2023-05-02T19:34:47.502Z"
   },
   {
    "duration": 112,
    "start_time": "2023-05-02T19:34:47.585Z"
   },
   {
    "duration": 189,
    "start_time": "2023-05-02T19:34:47.699Z"
   },
   {
    "duration": 126,
    "start_time": "2023-05-02T19:34:47.889Z"
   },
   {
    "duration": 46,
    "start_time": "2023-05-02T19:34:48.017Z"
   },
   {
    "duration": 15,
    "start_time": "2023-05-02T19:34:48.064Z"
   },
   {
    "duration": 4,
    "start_time": "2023-05-02T19:34:48.081Z"
   },
   {
    "duration": 8,
    "start_time": "2023-05-02T19:34:48.087Z"
   },
   {
    "duration": 31,
    "start_time": "2023-05-02T19:34:48.096Z"
   },
   {
    "duration": 58,
    "start_time": "2023-05-02T19:34:48.129Z"
   },
   {
    "duration": 143,
    "start_time": "2023-05-02T19:34:48.189Z"
   },
   {
    "duration": 82,
    "start_time": "2023-05-02T19:34:48.334Z"
   },
   {
    "duration": 5163,
    "start_time": "2023-05-02T19:34:48.419Z"
   },
   {
    "duration": 9,
    "start_time": "2023-05-02T19:34:53.585Z"
   },
   {
    "duration": 80,
    "start_time": "2023-05-02T19:34:53.596Z"
   },
   {
    "duration": 26,
    "start_time": "2023-05-02T19:34:53.678Z"
   },
   {
    "duration": 69,
    "start_time": "2023-05-02T19:34:53.706Z"
   },
   {
    "duration": 86,
    "start_time": "2023-05-02T19:34:53.777Z"
   },
   {
    "duration": 11,
    "start_time": "2023-05-02T19:34:53.865Z"
   },
   {
    "duration": 20,
    "start_time": "2023-05-02T19:34:53.878Z"
   },
   {
    "duration": 167,
    "start_time": "2023-05-02T19:34:53.900Z"
   },
   {
    "duration": 119,
    "start_time": "2023-05-02T19:34:54.068Z"
   },
   {
    "duration": 100,
    "start_time": "2023-05-02T19:34:54.189Z"
   },
   {
    "duration": 73,
    "start_time": "2023-05-02T19:34:54.290Z"
   },
   {
    "duration": 88,
    "start_time": "2023-05-03T10:51:35.243Z"
   },
   {
    "duration": 984,
    "start_time": "2023-05-03T10:51:50.695Z"
   },
   {
    "duration": 695,
    "start_time": "2023-05-03T10:51:51.681Z"
   },
   {
    "duration": 13,
    "start_time": "2023-05-03T10:51:52.377Z"
   },
   {
    "duration": 23,
    "start_time": "2023-05-03T10:51:52.392Z"
   },
   {
    "duration": 79,
    "start_time": "2023-05-03T10:51:52.417Z"
   },
   {
    "duration": 83,
    "start_time": "2023-05-03T10:51:52.498Z"
   },
   {
    "duration": 134,
    "start_time": "2023-05-03T10:51:52.584Z"
   },
   {
    "duration": 67,
    "start_time": "2023-05-03T10:51:52.720Z"
   },
   {
    "duration": 12,
    "start_time": "2023-05-03T10:51:52.789Z"
   },
   {
    "duration": 20,
    "start_time": "2023-05-03T10:51:52.802Z"
   },
   {
    "duration": 5,
    "start_time": "2023-05-03T10:51:52.824Z"
   },
   {
    "duration": 5442,
    "start_time": "2023-05-03T10:51:52.831Z"
   },
   {
    "duration": 131,
    "start_time": "2023-05-03T10:51:58.275Z"
   },
   {
    "duration": 79,
    "start_time": "2023-05-03T10:51:58.461Z"
   },
   {
    "duration": 0,
    "start_time": "2023-05-03T10:51:58.542Z"
   },
   {
    "duration": 0,
    "start_time": "2023-05-03T10:51:58.559Z"
   },
   {
    "duration": 0,
    "start_time": "2023-05-03T10:51:58.560Z"
   },
   {
    "duration": 0,
    "start_time": "2023-05-03T10:51:58.561Z"
   },
   {
    "duration": 0,
    "start_time": "2023-05-03T10:51:58.563Z"
   },
   {
    "duration": 0,
    "start_time": "2023-05-03T10:51:58.563Z"
   },
   {
    "duration": 0,
    "start_time": "2023-05-03T10:51:58.565Z"
   },
   {
    "duration": 0,
    "start_time": "2023-05-03T10:51:58.566Z"
   },
   {
    "duration": 0,
    "start_time": "2023-05-03T10:51:58.567Z"
   },
   {
    "duration": 0,
    "start_time": "2023-05-03T10:51:58.569Z"
   },
   {
    "duration": 0,
    "start_time": "2023-05-03T10:51:58.570Z"
   },
   {
    "duration": 0,
    "start_time": "2023-05-03T10:51:58.571Z"
   },
   {
    "duration": 0,
    "start_time": "2023-05-03T10:51:58.573Z"
   },
   {
    "duration": 0,
    "start_time": "2023-05-03T10:51:58.574Z"
   },
   {
    "duration": 0,
    "start_time": "2023-05-03T10:51:58.576Z"
   },
   {
    "duration": 0,
    "start_time": "2023-05-03T10:51:58.577Z"
   },
   {
    "duration": 0,
    "start_time": "2023-05-03T10:51:58.578Z"
   },
   {
    "duration": 0,
    "start_time": "2023-05-03T10:51:58.580Z"
   },
   {
    "duration": 0,
    "start_time": "2023-05-03T10:51:58.581Z"
   },
   {
    "duration": 0,
    "start_time": "2023-05-03T10:51:58.582Z"
   },
   {
    "duration": 0,
    "start_time": "2023-05-03T10:51:58.583Z"
   },
   {
    "duration": 0,
    "start_time": "2023-05-03T10:51:58.584Z"
   },
   {
    "duration": 0,
    "start_time": "2023-05-03T10:51:58.585Z"
   },
   {
    "duration": 0,
    "start_time": "2023-05-03T10:51:58.586Z"
   },
   {
    "duration": 0,
    "start_time": "2023-05-03T10:51:58.588Z"
   },
   {
    "duration": 118,
    "start_time": "2023-05-03T10:52:53.241Z"
   },
   {
    "duration": 124,
    "start_time": "2023-05-03T10:52:55.870Z"
   },
   {
    "duration": 77,
    "start_time": "2023-05-03T10:53:19.057Z"
   },
   {
    "duration": 18,
    "start_time": "2023-05-03T10:56:57.080Z"
   },
   {
    "duration": 21,
    "start_time": "2023-05-03T10:57:54.225Z"
   },
   {
    "duration": 18,
    "start_time": "2023-05-03T10:58:21.086Z"
   },
   {
    "duration": 21,
    "start_time": "2023-05-03T10:58:46.278Z"
   },
   {
    "duration": 18,
    "start_time": "2023-05-03T10:59:12.581Z"
   },
   {
    "duration": 19,
    "start_time": "2023-05-03T10:59:39.338Z"
   },
   {
    "duration": 19,
    "start_time": "2023-05-03T11:00:22.907Z"
   },
   {
    "duration": 17,
    "start_time": "2023-05-03T11:00:39.546Z"
   },
   {
    "duration": 16,
    "start_time": "2023-05-03T11:00:46.458Z"
   },
   {
    "duration": 78,
    "start_time": "2023-05-03T11:01:22.506Z"
   },
   {
    "duration": 75,
    "start_time": "2023-05-03T11:02:11.206Z"
   },
   {
    "duration": 131,
    "start_time": "2023-05-03T11:04:03.973Z"
   },
   {
    "duration": 4,
    "start_time": "2023-05-03T11:04:26.751Z"
   },
   {
    "duration": 169,
    "start_time": "2023-05-03T11:04:26.757Z"
   },
   {
    "duration": 8,
    "start_time": "2023-05-03T11:04:26.928Z"
   },
   {
    "duration": 28,
    "start_time": "2023-05-03T11:04:26.938Z"
   },
   {
    "duration": 51,
    "start_time": "2023-05-03T11:04:26.968Z"
   },
   {
    "duration": 72,
    "start_time": "2023-05-03T11:04:27.021Z"
   },
   {
    "duration": 190,
    "start_time": "2023-05-03T11:04:27.095Z"
   },
   {
    "duration": 56,
    "start_time": "2023-05-03T11:04:27.287Z"
   },
   {
    "duration": 12,
    "start_time": "2023-05-03T11:04:27.360Z"
   },
   {
    "duration": 20,
    "start_time": "2023-05-03T11:04:27.375Z"
   },
   {
    "duration": 15,
    "start_time": "2023-05-03T11:04:27.397Z"
   },
   {
    "duration": 5225,
    "start_time": "2023-05-03T11:04:27.414Z"
   },
   {
    "duration": 141,
    "start_time": "2023-05-03T11:04:32.642Z"
   },
   {
    "duration": 18,
    "start_time": "2023-05-03T11:04:32.785Z"
   },
   {
    "duration": 23,
    "start_time": "2023-05-03T11:04:32.861Z"
   },
   {
    "duration": 80,
    "start_time": "2023-05-03T11:04:32.886Z"
   },
   {
    "duration": 117,
    "start_time": "2023-05-03T11:04:32.968Z"
   },
   {
    "duration": 181,
    "start_time": "2023-05-03T11:04:33.087Z"
   },
   {
    "duration": 34,
    "start_time": "2023-05-03T11:04:33.269Z"
   },
   {
    "duration": 7,
    "start_time": "2023-05-03T11:04:33.305Z"
   },
   {
    "duration": 18,
    "start_time": "2023-05-03T11:04:33.314Z"
   },
   {
    "duration": 27,
    "start_time": "2023-05-03T11:04:33.333Z"
   },
   {
    "duration": 14,
    "start_time": "2023-05-03T11:04:33.362Z"
   },
   {
    "duration": 31,
    "start_time": "2023-05-03T11:04:33.378Z"
   },
   {
    "duration": 55,
    "start_time": "2023-05-03T11:04:33.410Z"
   },
   {
    "duration": 147,
    "start_time": "2023-05-03T11:04:33.466Z"
   },
   {
    "duration": 15,
    "start_time": "2023-05-03T11:04:33.615Z"
   },
   {
    "duration": 5116,
    "start_time": "2023-05-03T11:04:33.633Z"
   },
   {
    "duration": 10,
    "start_time": "2023-05-03T11:04:38.751Z"
   },
   {
    "duration": 98,
    "start_time": "2023-05-03T11:04:38.764Z"
   },
   {
    "duration": 22,
    "start_time": "2023-05-03T11:04:38.864Z"
   },
   {
    "duration": 78,
    "start_time": "2023-05-03T11:04:38.888Z"
   },
   {
    "duration": 21,
    "start_time": "2023-05-03T11:04:38.968Z"
   },
   {
    "duration": 12,
    "start_time": "2023-05-03T11:04:38.990Z"
   },
   {
    "duration": 6,
    "start_time": "2023-05-03T11:04:39.059Z"
   },
   {
    "duration": 117,
    "start_time": "2023-05-03T11:04:39.067Z"
   },
   {
    "duration": 116,
    "start_time": "2023-05-03T11:04:39.186Z"
   },
   {
    "duration": 116,
    "start_time": "2023-05-03T11:04:39.304Z"
   },
   {
    "duration": 88,
    "start_time": "2023-05-03T11:04:39.422Z"
   },
   {
    "duration": 893,
    "start_time": "2023-05-03T19:09:44.197Z"
   },
   {
    "duration": 894,
    "start_time": "2023-05-03T19:09:45.092Z"
   },
   {
    "duration": 14,
    "start_time": "2023-05-03T19:09:45.987Z"
   },
   {
    "duration": 19,
    "start_time": "2023-05-03T19:09:46.002Z"
   },
   {
    "duration": 72,
    "start_time": "2023-05-03T19:09:46.023Z"
   },
   {
    "duration": 69,
    "start_time": "2023-05-03T19:09:46.096Z"
   },
   {
    "duration": 116,
    "start_time": "2023-05-03T19:09:46.167Z"
   },
   {
    "duration": 57,
    "start_time": "2023-05-03T19:09:46.285Z"
   },
   {
    "duration": 10,
    "start_time": "2023-05-03T19:09:46.343Z"
   },
   {
    "duration": 40,
    "start_time": "2023-05-03T19:09:46.354Z"
   },
   {
    "duration": 7,
    "start_time": "2023-05-03T19:09:46.396Z"
   },
   {
    "duration": 4843,
    "start_time": "2023-05-03T19:09:46.404Z"
   },
   {
    "duration": 86,
    "start_time": "2023-05-03T19:09:51.250Z"
   },
   {
    "duration": 72,
    "start_time": "2023-05-03T19:09:51.339Z"
   },
   {
    "duration": 22,
    "start_time": "2023-05-03T19:09:51.412Z"
   },
   {
    "duration": 77,
    "start_time": "2023-05-03T19:09:51.436Z"
   },
   {
    "duration": 186,
    "start_time": "2023-05-03T19:09:51.515Z"
   },
   {
    "duration": 121,
    "start_time": "2023-05-03T19:09:51.703Z"
   },
   {
    "duration": 209,
    "start_time": "2023-05-03T19:09:51.826Z"
   },
   {
    "duration": 58,
    "start_time": "2023-05-03T19:09:52.037Z"
   },
   {
    "duration": 20,
    "start_time": "2023-05-03T19:09:52.097Z"
   },
   {
    "duration": 9,
    "start_time": "2023-05-03T19:09:52.119Z"
   },
   {
    "duration": 10,
    "start_time": "2023-05-03T19:09:52.131Z"
   },
   {
    "duration": 89,
    "start_time": "2023-05-03T19:09:52.143Z"
   },
   {
    "duration": 73,
    "start_time": "2023-05-03T19:09:52.234Z"
   },
   {
    "duration": 124,
    "start_time": "2023-05-03T19:09:52.309Z"
   },
   {
    "duration": 16,
    "start_time": "2023-05-03T19:09:52.435Z"
   },
   {
    "duration": 5110,
    "start_time": "2023-05-03T19:09:52.453Z"
   },
   {
    "duration": 29,
    "start_time": "2023-05-03T19:09:57.565Z"
   },
   {
    "duration": 32,
    "start_time": "2023-05-03T19:09:57.597Z"
   },
   {
    "duration": 75,
    "start_time": "2023-05-03T19:09:57.631Z"
   },
   {
    "duration": 28,
    "start_time": "2023-05-03T19:09:57.708Z"
   },
   {
    "duration": 82,
    "start_time": "2023-05-03T19:09:57.738Z"
   },
   {
    "duration": 12,
    "start_time": "2023-05-03T19:09:57.822Z"
   },
   {
    "duration": 63,
    "start_time": "2023-05-03T19:09:57.836Z"
   },
   {
    "duration": 120,
    "start_time": "2023-05-03T19:09:57.902Z"
   },
   {
    "duration": 175,
    "start_time": "2023-05-03T19:09:58.024Z"
   },
   {
    "duration": 134,
    "start_time": "2023-05-03T19:09:58.201Z"
   },
   {
    "duration": 73,
    "start_time": "2023-05-03T19:09:58.337Z"
   },
   {
    "duration": 1133,
    "start_time": "2023-05-04T12:44:22.650Z"
   },
   {
    "duration": 178,
    "start_time": "2023-05-04T12:44:23.785Z"
   },
   {
    "duration": 24,
    "start_time": "2023-05-04T12:44:23.972Z"
   },
   {
    "duration": 29,
    "start_time": "2023-05-04T12:44:24.003Z"
   },
   {
    "duration": 88,
    "start_time": "2023-05-04T12:44:24.034Z"
   },
   {
    "duration": 104,
    "start_time": "2023-05-04T12:44:24.125Z"
   },
   {
    "duration": 179,
    "start_time": "2023-05-04T12:44:24.232Z"
   },
   {
    "duration": 105,
    "start_time": "2023-05-04T12:44:24.414Z"
   },
   {
    "duration": 17,
    "start_time": "2023-05-04T12:44:24.521Z"
   },
   {
    "duration": 28,
    "start_time": "2023-05-04T12:44:24.564Z"
   },
   {
    "duration": 24,
    "start_time": "2023-05-04T12:44:24.595Z"
   },
   {
    "duration": 6983,
    "start_time": "2023-05-04T12:44:24.621Z"
   },
   {
    "duration": 173,
    "start_time": "2023-05-04T12:44:31.606Z"
   },
   {
    "duration": 21,
    "start_time": "2023-05-04T12:44:31.783Z"
   },
   {
    "duration": 69,
    "start_time": "2023-05-04T12:44:31.806Z"
   },
   {
    "duration": 30,
    "start_time": "2023-05-04T12:44:31.877Z"
   },
   {
    "duration": 165,
    "start_time": "2023-05-04T12:44:31.908Z"
   },
   {
    "duration": 194,
    "start_time": "2023-05-04T12:44:32.075Z"
   },
   {
    "duration": 189,
    "start_time": "2023-05-04T12:44:32.271Z"
   },
   {
    "duration": 6,
    "start_time": "2023-05-04T12:44:32.462Z"
   },
   {
    "duration": 24,
    "start_time": "2023-05-04T12:44:32.471Z"
   },
   {
    "duration": 6,
    "start_time": "2023-05-04T12:44:32.497Z"
   },
   {
    "duration": 9,
    "start_time": "2023-05-04T12:44:32.506Z"
   },
   {
    "duration": 57,
    "start_time": "2023-05-04T12:44:32.517Z"
   },
   {
    "duration": 61,
    "start_time": "2023-05-04T12:44:32.577Z"
   },
   {
    "duration": 168,
    "start_time": "2023-05-04T12:44:32.655Z"
   },
   {
    "duration": 91,
    "start_time": "2023-05-04T12:44:32.824Z"
   },
   {
    "duration": 6182,
    "start_time": "2023-05-04T12:44:32.918Z"
   },
   {
    "duration": 7,
    "start_time": "2023-05-04T12:44:39.103Z"
   },
   {
    "duration": 89,
    "start_time": "2023-05-04T12:44:39.112Z"
   },
   {
    "duration": 64,
    "start_time": "2023-05-04T12:44:39.204Z"
   },
   {
    "duration": 28,
    "start_time": "2023-05-04T12:44:39.269Z"
   },
   {
    "duration": 80,
    "start_time": "2023-05-04T12:44:39.299Z"
   },
   {
    "duration": 16,
    "start_time": "2023-05-04T12:44:39.380Z"
   },
   {
    "duration": 69,
    "start_time": "2023-05-04T12:44:39.398Z"
   },
   {
    "duration": 183,
    "start_time": "2023-05-04T12:44:39.477Z"
   },
   {
    "duration": 149,
    "start_time": "2023-05-04T12:44:39.662Z"
   },
   {
    "duration": 67,
    "start_time": "2023-05-04T12:44:39.870Z"
   },
   {
    "duration": 72,
    "start_time": "2023-05-04T12:44:39.938Z"
   },
   {
    "duration": 986,
    "start_time": "2023-05-04T12:50:44.412Z"
   },
   {
    "duration": 165,
    "start_time": "2023-05-04T12:50:45.400Z"
   },
   {
    "duration": 22,
    "start_time": "2023-05-04T12:50:45.568Z"
   },
   {
    "duration": 18,
    "start_time": "2023-05-04T12:50:45.591Z"
   },
   {
    "duration": 82,
    "start_time": "2023-05-04T12:50:45.612Z"
   },
   {
    "duration": 93,
    "start_time": "2023-05-04T12:50:45.695Z"
   },
   {
    "duration": 149,
    "start_time": "2023-05-04T12:50:45.791Z"
   },
   {
    "duration": 73,
    "start_time": "2023-05-04T12:50:45.941Z"
   },
   {
    "duration": 10,
    "start_time": "2023-05-04T12:50:46.016Z"
   },
   {
    "duration": 30,
    "start_time": "2023-05-04T12:50:46.028Z"
   },
   {
    "duration": 28,
    "start_time": "2023-05-04T12:50:46.060Z"
   },
   {
    "duration": 102,
    "start_time": "2023-05-04T12:50:46.090Z"
   },
   {
    "duration": 19,
    "start_time": "2023-05-04T12:50:46.194Z"
   },
   {
    "duration": 46,
    "start_time": "2023-05-04T12:50:46.215Z"
   },
   {
    "duration": 35,
    "start_time": "2023-05-04T12:50:46.263Z"
   },
   {
    "duration": 74,
    "start_time": "2023-05-04T12:50:46.300Z"
   },
   {
    "duration": 94,
    "start_time": "2023-05-04T12:50:46.375Z"
   },
   {
    "duration": 7,
    "start_time": "2023-05-04T12:50:46.470Z"
   },
   {
    "duration": 9,
    "start_time": "2023-05-04T12:50:46.479Z"
   },
   {
    "duration": 13,
    "start_time": "2023-05-04T12:50:46.490Z"
   },
   {
    "duration": 32,
    "start_time": "2023-05-04T12:50:46.504Z"
   },
   {
    "duration": 39,
    "start_time": "2023-05-04T12:50:46.558Z"
   },
   {
    "duration": 146,
    "start_time": "2023-05-04T12:50:46.599Z"
   },
   {
    "duration": 16,
    "start_time": "2023-05-04T12:50:46.747Z"
   },
   {
    "duration": 34,
    "start_time": "2023-05-04T12:50:46.769Z"
   },
   {
    "duration": 21,
    "start_time": "2023-05-04T12:50:46.805Z"
   },
   {
    "duration": 21,
    "start_time": "2023-05-04T12:50:46.828Z"
   },
   {
    "duration": 31,
    "start_time": "2023-05-04T12:50:46.856Z"
   },
   {
    "duration": 12,
    "start_time": "2023-05-04T12:50:46.888Z"
   },
   {
    "duration": 14,
    "start_time": "2023-05-04T12:50:46.902Z"
   },
   {
    "duration": 92,
    "start_time": "2023-05-04T12:50:46.918Z"
   },
   {
    "duration": 102,
    "start_time": "2023-05-04T12:50:47.011Z"
   },
   {
    "duration": 90,
    "start_time": "2023-05-04T12:50:47.116Z"
   },
   {
    "duration": 92,
    "start_time": "2023-05-04T12:50:47.208Z"
   }
  ],
  "colab": {
   "provenance": []
  },
  "kernelspec": {
   "display_name": "Python 3 (ipykernel)",
   "language": "python",
   "name": "python3"
  },
  "language_info": {
   "codemirror_mode": {
    "name": "ipython",
    "version": 3
   },
   "file_extension": ".py",
   "mimetype": "text/x-python",
   "name": "python",
   "nbconvert_exporter": "python",
   "pygments_lexer": "ipython3",
   "version": "3.9.13"
  },
  "toc": {
   "base_numbering": 1,
   "nav_menu": {},
   "number_sections": false,
   "sideBar": true,
   "skip_h1_title": false,
   "title_cell": "Table of Contents",
   "title_sidebar": "Contents",
   "toc_cell": false,
   "toc_position": {
    "height": "calc(100% - 180px)",
    "left": "10px",
    "top": "150px",
    "width": "303.267px"
   },
   "toc_section_display": true,
   "toc_window_display": true
  }
 },
 "nbformat": 4,
 "nbformat_minor": 1
}
